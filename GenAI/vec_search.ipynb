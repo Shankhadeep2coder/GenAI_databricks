{
 "cells": [
  {
   "cell_type": "code",
   "execution_count": 0,
   "metadata": {
    "application/vnd.databricks.v1+cell": {
     "cellMetadata": {
      "byteLimit": 2048000,
      "rowLimit": 10000
     },
     "inputWidgets": {},
     "nuid": "e03af9cc-e522-40db-85ca-481f6f486164",
     "showTitle": false,
     "tableResultSettingsMap": {},
     "title": ""
    }
   },
   "outputs": [],
   "source": [
    "%pip install databricks-vectorsearch\n",
    "%restart_python"
   ]
  },
  {
   "cell_type": "code",
   "execution_count": 0,
   "metadata": {
    "application/vnd.databricks.v1+cell": {
     "cellMetadata": {
      "byteLimit": 2048000,
      "rowLimit": 10000
     },
     "inputWidgets": {},
     "nuid": "916b9852-8dd6-43c0-bd39-04e116d9f961",
     "showTitle": false,
     "tableResultSettingsMap": {},
     "title": ""
    }
   },
   "outputs": [],
   "source": [
    "from mlflow.deployments import get_deploy_client\n",
    "from pyspark.sql.functions import pandas_udf\n",
    "import pandas as pd\n",
    "\n",
    "client = get_deploy_client(\"databricks\")\n",
    "EMBEDDING_ENDPOINT_NAME = \"databricks-bge-large-en\"\n"
   ]
  },
  {
   "cell_type": "markdown",
   "metadata": {
    "application/vnd.databricks.v1+cell": {
     "cellMetadata": {},
     "inputWidgets": {},
     "nuid": "0b2cdb01-7f7d-4ffa-8239-ae8deedad98a",
     "showTitle": false,
     "tableResultSettingsMap": {},
     "title": ""
    }
   },
   "source": [
    "1. Generate a Query Embedding"
   ]
  },
  {
   "cell_type": "code",
   "execution_count": 0,
   "metadata": {
    "application/vnd.databricks.v1+cell": {
     "cellMetadata": {
      "byteLimit": 2048000,
      "rowLimit": 10000
     },
     "inputWidgets": {},
     "nuid": "638a5678-f208-4876-a10d-9a6971795ca2",
     "showTitle": false,
     "tableResultSettingsMap": {},
     "title": ""
    }
   },
   "outputs": [],
   "source": [
    "# Example: Get embedding for a query\n",
    "query_text = \"Explain reinforcement learning in simple terms\"\n",
    "query_embedding = client.predict(endpoint=EMBEDDING_ENDPOINT_NAME, inputs={\"input\": [query_text]})[\"data\"][0][\"embedding\"]\n"
   ]
  },
  {
   "cell_type": "markdown",
   "metadata": {
    "application/vnd.databricks.v1+cell": {
     "cellMetadata": {},
     "inputWidgets": {},
     "nuid": "2165756d-c9b9-4e85-a7c3-50d61e7d93a2",
     "showTitle": false,
     "tableResultSettingsMap": {},
     "title": ""
    }
   },
   "source": [
    "2. Search the Vector Index"
   ]
  },
  {
   "cell_type": "code",
   "execution_count": 0,
   "metadata": {
    "application/vnd.databricks.v1+cell": {
     "cellMetadata": {
      "byteLimit": 2048000,
      "rowLimit": 10000
     },
     "inputWidgets": {},
     "nuid": "d6a7d6e2-2aaa-43df-a399-3e91376de55e",
     "showTitle": false,
     "tableResultSettingsMap": {},
     "title": ""
    }
   },
   "outputs": [],
   "source": [
    "df = spark.table(\"genai.default.pdf_chunks_embedded\")\n",
    "df.selectExpr(\"size(embedding)\").distinct().show()"
   ]
  },
  {
   "cell_type": "code",
   "execution_count": 0,
   "metadata": {
    "application/vnd.databricks.v1+cell": {
     "cellMetadata": {
      "byteLimit": 2048000,
      "rowLimit": 10000
     },
     "inputWidgets": {},
     "nuid": "2a94e6ed-b3f2-4995-a89e-f603dcef40d7",
     "showTitle": false,
     "tableResultSettingsMap": {},
     "title": ""
    }
   },
   "outputs": [],
   "source": [
    "\n",
    "from databricks.vector_search.client import VectorSearchClient\n",
    "import pandas as pd\n",
    "\n",
    "# Step 1: Initialize vector search client\n",
    "vsc = VectorSearchClient(disable_notice=True)\n",
    "\n",
    "# Step 2: Define index\n",
    "index = vsc.get_index(\n",
    "    endpoint_name=\"genai_vec_search_shankho\",  # your serving endpoint\n",
    "    index_name=\"genai.default.vec_index\"       # catalog.schema.index_name\n",
    ")\n",
    "\n",
    "# Step 3: Embed your query\n",
    "query = \"How many reading questions are there in per section\"\n",
    "query_embedding = client.predict(endpoint=EMBEDDING_ENDPOINT_NAME, inputs={\"input\": [query]})[\"data\"][0][\"embedding\"]\n",
    "\n",
    "# Step 4: Perform search\n",
    "results_df: pd.DataFrame = index.similarity_search(\n",
    "    query_vector=query_embedding,\n",
    "    columns=[\"chunk_id\", \"content\"],\n",
    "    num_results=5\n",
    ")\n",
    "\n",
    "display(results_df)\n"
   ]
  }
 ],
 "metadata": {
  "application/vnd.databricks.v1+notebook": {
   "computePreferences": null,
   "dashboards": [],
   "environmentMetadata": {
    "base_environment": "",
    "environment_version": "2"
   },
   "inputWidgetPreferences": null,
   "language": "python",
   "notebookMetadata": {
    "pythonIndentUnit": 4
   },
   "notebookName": "vec_search",
   "widgets": {}
  },
  "language_info": {
   "name": "python"
  }
 },
 "nbformat": 4,
 "nbformat_minor": 0
}
